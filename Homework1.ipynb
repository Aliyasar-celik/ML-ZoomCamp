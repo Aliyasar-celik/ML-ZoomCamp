{
 "cells": [
  {
   "cell_type": "code",
   "execution_count": 5,
   "id": "83381495-9c3c-4796-963c-a93672dc1047",
   "metadata": {},
   "outputs": [],
   "source": [
    "import pandas as pd\n",
    "from IPython.display import display  # built-in Jupyter"
   ]
  },
  {
   "cell_type": "code",
   "execution_count": 6,
   "id": "7652745d-9a4f-4f0d-9efe-e1bd90926e64",
   "metadata": {},
   "outputs": [
    {
     "data": {
      "text/plain": [
       "'2.3.2'"
      ]
     },
     "execution_count": 6,
     "metadata": {},
     "output_type": "execute_result"
    }
   ],
   "source": [
    "pd.__version__ "
   ]
  },
  {
   "cell_type": "code",
   "execution_count": 7,
   "id": "91f7db66-5aaf-4faa-9cb4-9e87817d6f07",
   "metadata": {},
   "outputs": [
    {
     "name": "stdout",
     "output_type": "stream",
     "text": [
      "Rows (records): 9704\n"
     ]
    }
   ],
   "source": [
    "df = pd.read_csv(\"car_fuel_efficiency.csv\") \n",
    "num_rows = df.shape[0] \n",
    "print(f\"Rows (records): {num_rows}\")"
   ]
  },
  {
   "cell_type": "code",
   "execution_count": 8,
   "id": "9e531ecd-0fd8-4363-ab60-abd797d07b93",
   "metadata": {},
   "outputs": [
    {
     "name": "stdout",
     "output_type": "stream",
     "text": [
      "Fuel-type column: fuel_type\n",
      "Multiple 'fuel' columns found; chose 'fuel_type' as it looks like a fuel type column.\n",
      "Number of distinct fuel types: 2\n",
      "Fuel types: ['Diesel', 'Gasoline']\n"
     ]
    }
   ],
   "source": [
    "# Try to detect the fuel-type column automatically\n",
    "candidates = [c for c in df.columns if \"fuel\" in c.lower()]\n",
    "selected_col = None\n",
    "reason = \"\"\n",
    "\n",
    "if len(candidates) == 1:\n",
    "    selected_col = candidates[0]\n",
    "    reason = f\"Detected single column containing 'fuel': '{selected_col}'\"\n",
    "elif len(candidates) > 1:\n",
    "    # Prefer columns that look like exact fuel type labels\n",
    "    preferred = [c for c in candidates if \"type\" in c.lower() or c.lower().strip() in {\"fuel\", \"fueltype\", \"fuel_type\", \"fuel type\"}]\n",
    "    if preferred:\n",
    "        selected_col = preferred[0]\n",
    "        reason = f\"Multiple 'fuel' columns found; chose '{selected_col}' as it looks like a fuel type column.\"\n",
    "    else:\n",
    "        selected_col = candidates[0]\n",
    "        reason = f\"Multiple 'fuel' columns found; defaulting to first match: '{selected_col}'.\"\n",
    "else:\n",
    "    # No column includes 'fuel' in its name; fall back to common names\n",
    "    common_names = [\"Fuel Type\", \"fuelType\", \"FuelType\", \"fuel_type\", \"fueltype\", \"fuel\"]\n",
    "    for name in common_names:\n",
    "        if name in df.columns:\n",
    "            selected_col = name\n",
    "            reason = f\"No 'fuel' substring match; fell back to common name: '{selected_col}'\"\n",
    "            break\n",
    "\n",
    "# Prepare outputs\n",
    "if selected_col is None:\n",
    "    result = {\n",
    "        \"status\": \"no_fuel_column_found\",\n",
    "        \"message\": \"Couldn't automatically find a column for fuel type. Here are the columns.\",\n",
    "        \"columns\": list(df.columns),\n",
    "    }\n",
    "    print(result[\"message\"])\n",
    "    print(\"Columns:\", result[\"columns\"])\n",
    "else:\n",
    "    # Count unique fuel types (excluding NaN)\n",
    "    unique_vals = sorted(v for v in df[selected_col].dropna().unique())\n",
    "    nunique = len(unique_vals)\n",
    "    print(f\"Fuel-type column: {selected_col}\")\n",
    "    print(reason)\n",
    "    print(f\"Number of distinct fuel types: {nunique}\")\n",
    "    print(\"Fuel types:\", unique_vals)\n",
    "\n",
    "    # Also show a frequency table for transparency\n",
    "    counts = df[selected_col].value_counts(dropna=True).rename_axis(\"fuel_type\").reset_index(name=\"count\")"
   ]
  },
  {
   "cell_type": "code",
   "execution_count": 9,
   "id": "fcb0eb40-3da8-43dc-ad16-b1436468b66d",
   "metadata": {},
   "outputs": [
    {
     "name": "stdout",
     "output_type": "stream",
     "text": [
      "Columns with missing values: 4 / 11\n"
     ]
    },
    {
     "data": {
      "text/html": [
       "<div>\n",
       "<style scoped>\n",
       "    .dataframe tbody tr th:only-of-type {\n",
       "        vertical-align: middle;\n",
       "    }\n",
       "\n",
       "    .dataframe tbody tr th {\n",
       "        vertical-align: top;\n",
       "    }\n",
       "\n",
       "    .dataframe thead th {\n",
       "        text-align: right;\n",
       "    }\n",
       "</style>\n",
       "<table border=\"1\" class=\"dataframe\">\n",
       "  <thead>\n",
       "    <tr style=\"text-align: right;\">\n",
       "      <th></th>\n",
       "      <th>missing_count</th>\n",
       "      <th>missing_pct</th>\n",
       "    </tr>\n",
       "  </thead>\n",
       "  <tbody>\n",
       "    <tr>\n",
       "      <th>acceleration</th>\n",
       "      <td>930</td>\n",
       "      <td>9.58</td>\n",
       "    </tr>\n",
       "    <tr>\n",
       "      <th>horsepower</th>\n",
       "      <td>708</td>\n",
       "      <td>7.30</td>\n",
       "    </tr>\n",
       "    <tr>\n",
       "      <th>num_doors</th>\n",
       "      <td>502</td>\n",
       "      <td>5.17</td>\n",
       "    </tr>\n",
       "    <tr>\n",
       "      <th>num_cylinders</th>\n",
       "      <td>482</td>\n",
       "      <td>4.97</td>\n",
       "    </tr>\n",
       "  </tbody>\n",
       "</table>\n",
       "</div>"
      ],
      "text/plain": [
       "               missing_count  missing_pct\n",
       "acceleration             930         9.58\n",
       "horsepower               708         7.30\n",
       "num_doors                502         5.17\n",
       "num_cylinders            482         4.97"
      ]
     },
     "metadata": {},
     "output_type": "display_data"
    }
   ],
   "source": [
    "# Count missing values per column\n",
    "na_counts = df.isna().sum()\n",
    "\n",
    "# Keep only columns that have at least one missing value\n",
    "cols_with_na = na_counts[na_counts > 0].sort_values(ascending=False)\n",
    "\n",
    "print(f\"Columns with missing values: {cols_with_na.size} / {df.shape[1]}\")\n",
    "\n",
    "# Show a small table with counts and percentages (if there are any)\n",
    "if cols_with_na.size:\n",
    "    summary = cols_with_na.to_frame(\"missing_count\")\n",
    "    summary[\"missing_pct\"] = (summary[\"missing_count\"] / len(df) * 100).round(2)\n",
    "    display(summary)\n",
    "else:\n",
    "    print(\"No missing values in any column.\")"
   ]
  },
  {
   "cell_type": "code",
   "execution_count": 10,
   "id": "2a561ec1-bc89-422b-b3c7-eba560879f8a",
   "metadata": {},
   "outputs": [
    {
     "name": "stdout",
     "output_type": "stream",
     "text": [
      "Region column: origin\n",
      "Efficiency column: fuel_efficiency_mpg\n",
      "Maximum fuel efficiency (Asia): 23.759122836520497\n"
     ]
    },
    {
     "data": {
      "text/html": [
       "<div>\n",
       "<style scoped>\n",
       "    .dataframe tbody tr th:only-of-type {\n",
       "        vertical-align: middle;\n",
       "    }\n",
       "\n",
       "    .dataframe tbody tr th {\n",
       "        vertical-align: top;\n",
       "    }\n",
       "\n",
       "    .dataframe thead th {\n",
       "        text-align: right;\n",
       "    }\n",
       "</style>\n",
       "<table border=\"1\" class=\"dataframe\">\n",
       "  <thead>\n",
       "    <tr style=\"text-align: right;\">\n",
       "      <th></th>\n",
       "      <th>engine_displacement</th>\n",
       "      <th>num_cylinders</th>\n",
       "      <th>horsepower</th>\n",
       "      <th>vehicle_weight</th>\n",
       "      <th>acceleration</th>\n",
       "      <th>model_year</th>\n",
       "      <th>origin</th>\n",
       "      <th>fuel_type</th>\n",
       "      <th>drivetrain</th>\n",
       "      <th>num_doors</th>\n",
       "      <th>fuel_efficiency_mpg</th>\n",
       "    </tr>\n",
       "  </thead>\n",
       "  <tbody>\n",
       "    <tr>\n",
       "      <th>9387</th>\n",
       "      <td>330</td>\n",
       "      <td>3.0</td>\n",
       "      <td>136.0</td>\n",
       "      <td>1223.298226</td>\n",
       "      <td>NaN</td>\n",
       "      <td>2001</td>\n",
       "      <td>Asia</td>\n",
       "      <td>Gasoline</td>\n",
       "      <td>Front-wheel drive</td>\n",
       "      <td>1.0</td>\n",
       "      <td>23.759123</td>\n",
       "    </tr>\n",
       "  </tbody>\n",
       "</table>\n",
       "</div>"
      ],
      "text/plain": [
       "      engine_displacement  num_cylinders  horsepower  vehicle_weight  \\\n",
       "9387                  330            3.0       136.0     1223.298226   \n",
       "\n",
       "      acceleration  model_year origin fuel_type         drivetrain  num_doors  \\\n",
       "9387           NaN        2001   Asia  Gasoline  Front-wheel drive        1.0   \n",
       "\n",
       "      fuel_efficiency_mpg  \n",
       "9387            23.759123  "
      ]
     },
     "metadata": {},
     "output_type": "display_data"
    }
   ],
   "source": [
    "def pick_region_col(cols):\n",
    "    keys = [\"origin\", \"region\", \"country\", \"market\", \"continent\", \"manufacturer_country\", \"made_in\"]\n",
    "    cands = [c for c in cols if any(k in c.lower() for k in keys)]\n",
    "    return cands[0] if cands else None\n",
    "\n",
    "def pick_eff_col(cols):\n",
    "    scored = []\n",
    "    for c in cols:\n",
    "        cl = c.lower()\n",
    "        if any(k in cl for k in [\"mpg\", \"kmpl\", \"km/l\", \"l/100\", \"fuel_eff\", \"fuel eff\", \"efficiency\", \"consumption\"]):\n",
    "            score = 1\n",
    "            if \"combined\" in cl or \"overall\" in cl or \"avg\" in cl: score += 3\n",
    "            if \"mpg\" in cl: score += 2\n",
    "            # deprioritize city/highway-only if a combined exists\n",
    "            if \"city\" in cl or \"urban\" in cl: score -= 0\n",
    "            if \"highway\" in cl or \"extra\" in cl: score -= 0\n",
    "            scored.append((score, c))\n",
    "    if scored:\n",
    "        scored.sort(reverse=True)\n",
    "        return scored[0][1]\n",
    "    return None\n",
    "\n",
    "region_col = pick_region_col(df.columns)\n",
    "eff_col = pick_eff_col(df.columns)\n",
    "\n",
    "if region_col is None or eff_col is None:\n",
    "    print(\"Couldn't auto-detect needed columns.\")\n",
    "    print(\"Columns:\", list(df.columns))\n",
    "else:\n",
    "    # Filter rows where region contains 'asia' (case-insensitive)\n",
    "    asia_mask = df[region_col].astype(str).str.contains(\"asia\", case=False, na=False)\n",
    "    asia_df = df.loc[asia_mask].copy()\n",
    "\n",
    "    # Ensure numeric efficiency\n",
    "    asia_df[eff_col] = pd.to_numeric(asia_df[eff_col], errors=\"coerce\")\n",
    "\n",
    "    if asia_df.empty or asia_df[eff_col].dropna().empty:\n",
    "        print(f\"No Asian cars or '{eff_col}' has no numeric values.\")\n",
    "    else:\n",
    "        max_eff = asia_df[eff_col].max()\n",
    "        print(f\"Region column: {region_col}\")\n",
    "        print(f\"Efficiency column: {eff_col}\")\n",
    "        print(f\"Maximum fuel efficiency (Asia): {max_eff}\")\n",
    "\n",
    "        # Show rows achieving the max (top 10 if many)\n",
    "        top = asia_df.loc[asia_df[eff_col] == max_eff]\n",
    "        display(top.head(10))"
   ]
  },
  {
   "cell_type": "code",
   "execution_count": 11,
   "id": "dc619683-5def-4ee6-a786-8cd234c044ef",
   "metadata": {},
   "outputs": [
    {
     "name": "stdout",
     "output_type": "stream",
     "text": [
      "Median horsepower: 149.0\n"
     ]
    }
   ],
   "source": [
    "hp_col = \"horsepower\" \n",
    "median_hp = pd.to_numeric(df[hp_col], errors=\"coerce\").median()\n",
    "print(\"Median horsepower:\", median_hp)"
   ]
  },
  {
   "cell_type": "code",
   "execution_count": 12,
   "id": "a2446215-0e94-440f-a966-fcb46a9820f6",
   "metadata": {},
   "outputs": [
    {
     "name": "stdout",
     "output_type": "stream",
     "text": [
      "Most frequent horsepower value(s): [152.0] (count = 142)\n"
     ]
    }
   ],
   "source": [
    "\n",
    "# Convert to numeric and drop missing values\n",
    "s = pd.to_numeric(df[hp_col], errors=\"coerce\").dropna()\n",
    "\n",
    "# Count frequencies\n",
    "counts = s.value_counts()\n",
    "\n",
    "if counts.empty:\n",
    "    print(\"No numeric horsepower values found.\")\n",
    "else:\n",
    "    max_count = int(counts.max())\n",
    "    modes = counts[counts == max_count].index.tolist()\n",
    "    print(f\"Most frequent horsepower value(s): {modes} (count = {max_count})\")\n",
    "\n",
    "    # Optional: show the top 10 most common horsepower values\n",
    "    counts.head(10)"
   ]
  },
  {
   "cell_type": "code",
   "execution_count": 13,
   "id": "41907bc7-62ca-4cb4-89c6-5416cd7d71c9",
   "metadata": {},
   "outputs": [
    {
     "name": "stdout",
     "output_type": "stream",
     "text": [
      "Filled 708 missing values in 'horsepower' with mode = 152.0\n"
     ]
    }
   ],
   "source": [
    "# Make sure the column is numeric (strings like \"150 hp\" -> NaN)\n",
    "s = pd.to_numeric(df[hp_col], errors=\"coerce\")\n",
    "\n",
    "# Most frequent value (mode). If there are multiple modes, take the first.\n",
    "mode_hp = s.mode(dropna=True).iloc[0]\n",
    "\n",
    "# Fill NaNs with the mode and write back\n",
    "n_missing_before = s.isna().sum()\n",
    "df[hp_col] = s.fillna(mode_hp)\n",
    "\n",
    "print(f\"Filled {n_missing_before} missing values in '{hp_col}' with mode = {mode_hp}\")\n",
    "\n",
    "# (Optional) If all values are whole numbers, store as nullable integer\n",
    "if (df[hp_col] % 1 == 0).all():\n",
    "    df[hp_col] = df[hp_col].astype(\"Int64\")"
   ]
  },
  {
   "cell_type": "code",
   "execution_count": 14,
   "id": "4781b781-9c25-4f19-857e-346dcf109c7a",
   "metadata": {},
   "outputs": [
    {
     "name": "stdout",
     "output_type": "stream",
     "text": [
      "Median horsepower: 152.0\n"
     ]
    }
   ],
   "source": [
    "median_hp = pd.to_numeric(df[hp_col], errors=\"coerce\").median()\n",
    "print(\"Median horsepower:\", median_hp)"
   ]
  },
  {
   "cell_type": "code",
   "execution_count": null,
   "id": "a3d59c44-46e1-4897-9ad8-9cb0b6bfb9e0",
   "metadata": {},
   "outputs": [],
   "source": []
  }
 ],
 "metadata": {
  "kernelspec": {
   "display_name": "Python (ml-zoomcamp)",
   "language": "python",
   "name": "ml-zoomcamp"
  },
  "language_info": {
   "codemirror_mode": {
    "name": "ipython",
    "version": 3
   },
   "file_extension": ".py",
   "mimetype": "text/x-python",
   "name": "python",
   "nbconvert_exporter": "python",
   "pygments_lexer": "ipython3",
   "version": "3.13.7"
  }
 },
 "nbformat": 4,
 "nbformat_minor": 5
}
